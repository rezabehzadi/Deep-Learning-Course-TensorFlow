{
 "cells": [
  {
   "cell_type": "code",
   "execution_count": 116,
   "metadata": {},
   "outputs": [],
   "source": [
    "# 06. Training a Deep Neural Network with Time Series Data\n",
    "# 07. Predicting time series with DNN\n",
    "\n",
    "# 09. Using a multi-layer LSTM for forecasting\n",
    "# 10. Using RNNsRNN's and LSTM's to predict time series\n",
    "# 11. LSTMs\n",
    "# 12. Predicting Sunspots with DNN\n",
    "# 13. Predicting Sunspots with RNN and CNN"
   ]
  }
 ],
 "metadata": {
  "kernelspec": {
   "display_name": "Python 3",
   "language": "python",
   "name": "python3"
  },
  "language_info": {
   "codemirror_mode": {
    "name": "ipython",
    "version": 3
   },
   "file_extension": ".py",
   "mimetype": "text/x-python",
   "name": "python",
   "nbconvert_exporter": "python",
   "pygments_lexer": "ipython3",
   "version": "3.11.4"
  }
 },
 "nbformat": 4,
 "nbformat_minor": 2
}
