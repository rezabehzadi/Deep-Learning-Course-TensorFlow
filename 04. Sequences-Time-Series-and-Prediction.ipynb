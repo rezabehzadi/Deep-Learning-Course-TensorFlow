{
 "cells": [
  {
   "cell_type": "code",
   "execution_count": 22,
   "metadata": {},
   "outputs": [],
   "source": [
    "# 01. Terminologies and Attributes: Trend - Seasonality - Noise - Autocorrelation - Non stationary Time Series\n",
    "# 02. Forecasting: statistical forecasting - machine learning forecasting\n",
    "# 03. Create and Predict Synthetic Data\n",
    "# 04. Preparing Time Series Features and Labels\n",
    "# 05. Training a Single Layer Neural Network with Time Series Data\n",
    "# 06. Training a Deep Neural Network with Time Series Data\n",
    "# 07. Predicting time series with DNN\n",
    "# 08. Using a Simple RNN for forecasting\n",
    "# 09. Using a multi-layer LSTM for forecasting\n",
    "# 10. Using RNNsRNN's and LSTM's to predict time series\n",
    "# 11. LSTMs\n",
    "# 12. Predicting Sunspots with DNN\n",
    "# 13. Predicting Sunspots with RNN and CNN"
   ]
  },
  {
   "cell_type": "code",
   "execution_count": 23,
   "metadata": {},
   "outputs": [],
   "source": [
    "import matplotlib.pyplot as plt\n",
    "import numpy as np"
   ]
  },
  {
   "cell_type": "markdown",
   "metadata": {},
   "source": [
    "# 01. Terminologies and Attributes"
   ]
  },
  {
   "cell_type": "code",
   "execution_count": 5,
   "metadata": {},
   "outputs": [],
   "source": [
    "# A function to plot time series\n",
    "def plot_series(time, series, format=\"-\", start=0, end=None, label=None):\n",
    "    \"\"\"\n",
    "    Visualizes time series data\n",
    "\n",
    "    Args:\n",
    "      time (array of int) - contains the time steps\n",
    "      series (array of int) - contains the measurements for each time step\n",
    "      format (string) - line style when plotting the graph\n",
    "      start (int) - first time step to plot\n",
    "      end (int) - last time step to plot\n",
    "      label (list of strings)- tag for the line\n",
    "    \"\"\"\n",
    "\n",
    "    # Setup dimensions of the graph figure\n",
    "    plt.figure(figsize=(10, 4))\n",
    "\n",
    "    # Plot the time series data\n",
    "    plt.plot(time[start:end], series[start:end], format)\n",
    "\n",
    "    # Label the x-axis\n",
    "    plt.xlabel(\"Time\")\n",
    "\n",
    "    # Label the y-axis\n",
    "    plt.ylabel(\"Value\")\n",
    "\n",
    "    if label:\n",
    "      plt.legend(fontsize=14, labels=label)\n",
    "\n",
    "    # Overlay a grid on the graph\n",
    "    plt.grid(True)\n",
    "\n",
    "    # Draw the graph on screen\n",
    "    plt.show()"
   ]
  },
  {
   "cell_type": "code",
   "execution_count": 6,
   "metadata": {},
   "outputs": [],
   "source": [
    "def trend(time, slope=0):\n",
    "    \"\"\"\n",
    "    Generates synthetic data that follows a straight line given a slope value.\n",
    "\n",
    "    Args:\n",
    "      time (array of int) - contains the time steps\n",
    "      slope (float) - determines the direction and steepness of the line\n",
    "\n",
    "    Returns:\n",
    "      series (array of float) - measurements that follow a straight line\n",
    "    \"\"\"\n",
    "\n",
    "    # Compute the linear series given the slope\n",
    "    series = slope * time\n",
    "\n",
    "    return series"
   ]
  },
  {
   "cell_type": "code",
   "execution_count": null,
   "metadata": {},
   "outputs": [],
   "source": [
    "# A time series that trends upward\n",
    "\n",
    "# Generate time steps. Assume 1 per day for one year (365 days)\n",
    "time = np.arange(365)\n",
    "\n",
    "# Define the slope (You can revise this)\n",
    "slope = 0.2\n",
    "\n",
    "# Generate measurements with the defined slope\n",
    "series = trend(time, slope)\n",
    "\n",
    "# Plot the results\n",
    "plot_series(time, series, label=[f'slope={slope}'])"
   ]
  },
  {
   "cell_type": "code",
   "execution_count": null,
   "metadata": {},
   "outputs": [],
   "source": [
    "# A time series that trends downward\n",
    "\n",
    "# Generate time steps. Assume 1 per day for one year (365 days)\n",
    "time = np.arange(365)\n",
    "\n",
    "# Define the slope (You can revise this)\n",
    "slope = -0.3\n",
    "\n",
    "# Generate measurements with the defined slope\n",
    "series = trend(time, slope)\n",
    "\n",
    "# Plot the results\n",
    "plot_series(time, series, label=[f'slope={slope}'])"
   ]
  },
  {
   "cell_type": "code",
   "execution_count": 8,
   "metadata": {},
   "outputs": [],
   "source": [
    "def seasonal_pattern(season_time):\n",
    "    \"\"\"\n",
    "    Just an arbitrary pattern, you can change it if you wish\n",
    "    \n",
    "    Args:\n",
    "      season_time (array of float) - contains the measurements per time step\n",
    "\n",
    "    Returns:\n",
    "      data_pattern (array of float) -  contains revised measurement values according \n",
    "                                  to the defined pattern\n",
    "    \"\"\"\n",
    "\n",
    "    # Generate the values using an arbitrary pattern\n",
    "    data_pattern = np.where(season_time < 0.4,\n",
    "                    np.cos(season_time * 2 * np.pi),\n",
    "                    1 / np.exp(3 * season_time))\n",
    "    \n",
    "    return data_pattern"
   ]
  },
  {
   "cell_type": "code",
   "execution_count": 9,
   "metadata": {},
   "outputs": [],
   "source": [
    "def seasonality(time, period, amplitude=1, phase=0):\n",
    "    \"\"\"\n",
    "    Repeats the same pattern at each period\n",
    "\n",
    "    Args:\n",
    "      time (array of int) - contains the time steps\n",
    "      period (int) - number of time steps before the pattern repeats\n",
    "      amplitude (int) - peak measured value in a period\n",
    "      phase (int) - number of time steps to shift the measured values\n",
    "\n",
    "    Returns:\n",
    "      data_pattern (array of float) - seasonal data scaled by the defined amplitude\n",
    "    \"\"\"\n",
    "    \n",
    "    # Define the measured values per period\n",
    "    season_time = ((time + phase) % period) / period\n",
    "\n",
    "    # Generates the seasonal data scaled by the defined amplitude\n",
    "    data_pattern = amplitude * seasonal_pattern(season_time)\n",
    "\n",
    "    return data_pattern"
   ]
  },
  {
   "cell_type": "code",
   "execution_count": null,
   "metadata": {},
   "outputs": [],
   "source": [
    "# A time series with a recurring pattern every 365 time steps\n",
    "\n",
    "# Generate time steps\n",
    "time = np.arange(4 * 365 + 1)\n",
    "\n",
    "# Define the parameters of the seasonal data\n",
    "period = 365\n",
    "amplitude = 40\n",
    "\n",
    "# Generate the seasonal data\n",
    "series = seasonality(time, period=period, amplitude=amplitude)\n",
    "\n",
    "# Plot the results\n",
    "plot_series(time, series)"
   ]
  },
  {
   "cell_type": "code",
   "execution_count": null,
   "metadata": {},
   "outputs": [],
   "source": [
    "# A time series with a seasonal pattern and an upward trend\n",
    "\n",
    "# Define seasonal parameters\n",
    "slope = 0.05\n",
    "period = 365\n",
    "amplitude = 40\n",
    "\n",
    "# Generate the data\n",
    "series = trend(time, slope) + seasonality(time, period=period, amplitude=amplitude)\n",
    "\n",
    "# Plot the results\n",
    "plot_series(time, series)"
   ]
  },
  {
   "cell_type": "code",
   "execution_count": 11,
   "metadata": {},
   "outputs": [],
   "source": [
    "def noise(time, noise_level=1, seed=None):\n",
    "    \"\"\"Generates a normally distributed noisy signal\n",
    "\n",
    "    Args:\n",
    "      time (array of int) - contains the time steps\n",
    "      noise_level (float) - scaling factor for the generated signal\n",
    "      seed (int) - number generator seed for repeatability\n",
    "\n",
    "    Returns:\n",
    "      noise (array of float) - the noisy signal\n",
    "\n",
    "    \"\"\"\n",
    "\n",
    "    # Initialize the random number generator\n",
    "    rnd = np.random.RandomState(seed)\n",
    "\n",
    "    # Generate a random number for each time step and scale by the noise level\n",
    "    noise = rnd.randn(len(time)) * noise_level\n",
    "    \n",
    "    return noise"
   ]
  },
  {
   "cell_type": "code",
   "execution_count": null,
   "metadata": {},
   "outputs": [],
   "source": [
    "# Define noise level\n",
    "noise_level = 2\n",
    "\n",
    "# Generate noisy signal\n",
    "noise_signal = noise(time, noise_level=noise_level, seed=42)\n",
    "\n",
    "# Plot the results\n",
    "plot_series(time, noise_signal)"
   ]
  },
  {
   "cell_type": "code",
   "execution_count": null,
   "metadata": {},
   "outputs": [],
   "source": [
    "# Add the noise to the time series\n",
    "series += noise_signal\n",
    "\n",
    "# Plot the results\n",
    "plot_series(time, series)"
   ]
  },
  {
   "cell_type": "code",
   "execution_count": 33,
   "metadata": {},
   "outputs": [],
   "source": [
    "def autocorrelation(time, amplitude, seed=None):\n",
    "    \"\"\"\n",
    "    Generates autocorrelated data\n",
    "\n",
    "    Args:\n",
    "      time (array of int) - contains the time steps\n",
    "      amplitude (float) - scaling factor\n",
    "      seed (int) - number generator seed for repeatability\n",
    "\n",
    "    Returns:\n",
    "      ar (array of float) - autocorrelated data\n",
    "    \"\"\"\n",
    "\n",
    "    # Initialize random number generator \n",
    "    rnd = np.random.RandomState(seed)\n",
    "    \n",
    "    # Initialize array of random numbers equal to the length \n",
    "    # of the given time steps plus 50\n",
    "    ar = rnd.randn(len(time) + 50)\n",
    "    \n",
    "    # Set first 50 elements to a constant\n",
    "    ar[:50] = 100\n",
    "    \n",
    "    # Define scaling factors\n",
    "    phi1 = 0.5\n",
    "    phi2 = -0.1\n",
    "\n",
    "    # Autocorrelate element 51 onwards with the measurement at \n",
    "    # (t-50) and (t-30), where t is the current time step\n",
    "    for step in range(50, len(time) + 50):\n",
    "        ar[step] += phi1 * ar[step - 50]\n",
    "        ar[step] += phi2 * ar[step - 33]\n",
    "    \n",
    "    # Get the autocorrelated data and scale with the given amplitude.\n",
    "    # The first 50 elements of the original array is truncated because\n",
    "    # those are just constant and not autocorrelated.\n",
    "    ar = ar[50:] * amplitude\n",
    "\n",
    "    return ar"
   ]
  },
  {
   "cell_type": "code",
   "execution_count": null,
   "metadata": {},
   "outputs": [],
   "source": [
    "# Use time steps from previous section and generate autocorrelated data\n",
    "series = autocorrelation(time, amplitude=10, seed=42)\n",
    "\n",
    "# Plot the first 200 elements to see the pattern more clearly\n",
    "plot_series(time[:200], series[:200])"
   ]
  },
  {
   "cell_type": "code",
   "execution_count": 37,
   "metadata": {},
   "outputs": [],
   "source": [
    "def autocorrelation(time, amplitude, seed=None):\n",
    "    \"\"\"\n",
    "    Generates autocorrelated data\n",
    "\n",
    "    Args:\n",
    "      time (array of int) - contains the time steps\n",
    "      amplitude (float) - scaling factor\n",
    "      seed (int) - number generator seed for repeatability\n",
    "\n",
    "    Returns:\n",
    "      ar (array of float) - generated autocorrelated data\n",
    "    \"\"\"\n",
    "\n",
    "    # Initialize random number generator \n",
    "    rnd = np.random.RandomState(seed)\n",
    "\n",
    "    # Initialize array of random numbers equal to the length \n",
    "    # of the given time steps plus an additional step\n",
    "    ar = rnd.randn(len(time) + 1)\n",
    "\n",
    "    # Define scaling factor\n",
    "    phi = 0.8\n",
    "\n",
    "    # Autocorrelate element 11 onwards with the measurement at \n",
    "    # (t-1), where t is the current time step\n",
    "    for step in range(1, len(time) + 1):\n",
    "        ar[step] += phi * ar[step - 1]\n",
    "    \n",
    "    # Get the autocorrelated data and scale with the given amplitude.\n",
    "    ar = ar[1:] * amplitude\n",
    "    \n",
    "    return ar"
   ]
  },
  {
   "cell_type": "code",
   "execution_count": null,
   "metadata": {},
   "outputs": [],
   "source": [
    "# Use time steps from previous section and generate autocorrelated data\n",
    "series = autocorrelation(time, amplitude=10, seed=42)\n",
    "\n",
    "# Plot the results\n",
    "plot_series(time[:200], series[:200])"
   ]
  },
  {
   "cell_type": "code",
   "execution_count": 39,
   "metadata": {},
   "outputs": [],
   "source": [
    "def impulses(time, num_impulses, amplitude=1, seed=None):\n",
    "    \"\"\"\n",
    "    Generates random impulses\n",
    "\n",
    "    Args:\n",
    "      time (array of int) - contains the time steps\n",
    "      num_impulses (int) - number of impulses to generate\n",
    "      amplitude (float) - scaling factor\n",
    "      seed (int) - number generator seed for repeatability\n",
    "\n",
    "    Returns:\n",
    "      series (array of float) - array containing the impulses\n",
    "    \"\"\"\n",
    "\n",
    "    # Initialize random number generator \n",
    "    rnd = np.random.RandomState(seed)\n",
    "\n",
    "    # Generate random numbers\n",
    "    impulse_indices = rnd.randint(len(time), size=num_impulses)\n",
    "\n",
    "    # Initialize series\n",
    "    series = np.zeros(len(time))\n",
    "\n",
    "    # Insert random impulses\n",
    "    for index in impulse_indices:\n",
    "        series[index] += rnd.rand() * amplitude\n",
    "\n",
    "    return series    "
   ]
  },
  {
   "cell_type": "code",
   "execution_count": null,
   "metadata": {},
   "outputs": [],
   "source": [
    "# Generate random impulses\n",
    "impulses_signal = impulses(time, num_impulses=10, seed=42)\n",
    "\n",
    "# Plot the results\n",
    "plot_series(time, impulses_signal)"
   ]
  },
  {
   "cell_type": "code",
   "execution_count": 41,
   "metadata": {},
   "outputs": [],
   "source": [
    "def autocorrelation_impulses(source, phis):\n",
    "    \"\"\"\n",
    "    Generates autocorrelated data from impulses\n",
    "\n",
    "    Args:\n",
    "      source (array of float) - contains the time steps with impulses\n",
    "      phis (dict) - dictionary containing the lag time and decay rates\n",
    "\n",
    "    Returns:\n",
    "      ar (array of float) - generated autocorrelated data\n",
    "    \"\"\"\n",
    "\n",
    "    # Copy the source\n",
    "    ar = source.copy()\n",
    "\n",
    "    # Compute new series values based on the lag times and decay rates\n",
    "    for step, value in enumerate(source):\n",
    "        for lag, phi in phis.items():\n",
    "            if step - lag > 0:\n",
    "              ar[step] += phi * ar[step - lag]\n",
    "\n",
    "    return ar"
   ]
  },
  {
   "cell_type": "code",
   "execution_count": null,
   "metadata": {},
   "outputs": [],
   "source": [
    "# Use the impulses from the previous section and generate autocorrelated data\n",
    "series = autocorrelation_impulses(impulses_signal, {1: 0.99})\n",
    "\n",
    "# Plot the results\n",
    "plot_series(time, series)"
   ]
  },
  {
   "cell_type": "code",
   "execution_count": null,
   "metadata": {},
   "outputs": [],
   "source": [
    "# Use the impulses from the previous section and generate autocorrelated data\n",
    "series = autocorrelation_impulses(impulses_signal, {1: 0.70, 50: 0.2})\n",
    "\n",
    "# Plot the results\n",
    "plot_series(time, series)"
   ]
  },
  {
   "cell_type": "code",
   "execution_count": null,
   "metadata": {},
   "outputs": [],
   "source": [
    "# Generate autocorrelated data with an upward trend\n",
    "series = autocorrelation(time, 10, seed=42) + trend(time, 2)\n",
    "\n",
    "# Plot the results\n",
    "plot_series(time[:200], series[:200])"
   ]
  },
  {
   "cell_type": "code",
   "execution_count": null,
   "metadata": {},
   "outputs": [],
   "source": [
    "# Generate autocorrelated data with an upward trend\n",
    "series = autocorrelation(time, 10, seed=42) + seasonality(time, period=50, amplitude=150) + trend(time, 2)\n",
    "\n",
    "# Plot the results\n",
    "plot_series(time[:200], series[:200])"
   ]
  },
  {
   "cell_type": "code",
   "execution_count": null,
   "metadata": {},
   "outputs": [],
   "source": [
    "# Generate data with positive trend\n",
    "series = autocorrelation(time, 10, seed=42) + seasonality(time, period=50, amplitude=150) + trend(time, 2)\n",
    "\n",
    "# Generate data with negative trend\n",
    "series2 = autocorrelation(time, 5, seed=42) + seasonality(time, period=50, amplitude=2) + trend(time, -1) + 550\n",
    "\n",
    "# Splice the downward trending data into the first one at time step = 200\n",
    "series[200:] = series2[200:]\n",
    "\n",
    "# Plot the result\n",
    "plot_series(time[:300], series[:300])"
   ]
  },
  {
   "cell_type": "markdown",
   "metadata": {},
   "source": [
    "# 02. Forecasting"
   ]
  },
  {
   "cell_type": "code",
   "execution_count": null,
   "metadata": {},
   "outputs": [],
   "source": [
    "# Generate the synthetic data\n",
    "\n",
    "# Parameters\n",
    "time = np.arange(4 * 365 + 1, dtype=\"float32\")\n",
    "baseline = 10\n",
    "amplitude = 40\n",
    "slope = 0.05\n",
    "noise_level = 5\n",
    "\n",
    "# Create the series\n",
    "series = baseline + trend(time, slope) + seasonality(time, period=365, amplitude=amplitude)\n",
    "\n",
    "# Update with noise\n",
    "series += noise(time, noise_level, seed=42)\n",
    "\n",
    "# Plot the results\n",
    "plot_series(time, series)"
   ]
  },
  {
   "cell_type": "code",
   "execution_count": 14,
   "metadata": {},
   "outputs": [],
   "source": [
    "# Split the Dataset\n",
    "\n",
    "# Define the split time\n",
    "split_time = 1000\n",
    "\n",
    "# Get the train set \n",
    "time_train = time[:split_time]\n",
    "x_train = series[:split_time]\n",
    "\n",
    "# Get the validation set\n",
    "time_valid = time[split_time:]\n",
    "x_valid = series[split_time:]"
   ]
  },
  {
   "cell_type": "code",
   "execution_count": null,
   "metadata": {},
   "outputs": [],
   "source": [
    "# Plot the train set\n",
    "plot_series(time_train, x_train)"
   ]
  },
  {
   "cell_type": "code",
   "execution_count": null,
   "metadata": {},
   "outputs": [],
   "source": [
    "# Plot the validation set\n",
    "plot_series(time_valid, x_valid)"
   ]
  },
  {
   "cell_type": "code",
   "execution_count": null,
   "metadata": {},
   "outputs": [],
   "source": [
    "# Generate the naive forecast\n",
    "naive_forecast = series[split_time - 1:-1]\n",
    "\n",
    "# Define time step\n",
    "time_step = 100\n",
    "\n",
    "# Print values\n",
    "print(f'ground truth at time step {time_step}: {x_valid[time_step]}')\n",
    "print(f'prediction at time step {time_step + 1}: {naive_forecast[time_step + 1]}')"
   ]
  },
  {
   "cell_type": "code",
   "execution_count": null,
   "metadata": {},
   "outputs": [],
   "source": [
    "# Plot the results\n",
    "plot_series(time_valid, (x_valid, naive_forecast))"
   ]
  },
  {
   "cell_type": "code",
   "execution_count": null,
   "metadata": {},
   "outputs": [],
   "source": [
    "# Zooming in\n",
    "plot_series(time_valid, (x_valid, naive_forecast), start=0, end=150)"
   ]
  },
  {
   "cell_type": "markdown",
   "metadata": {},
   "source": [
    "# 04. Preparing Time Series Features and Labels"
   ]
  },
  {
   "cell_type": "markdown",
   "metadata": {},
   "source": []
  }
 ],
 "metadata": {
  "kernelspec": {
   "display_name": "Python 3",
   "language": "python",
   "name": "python3"
  },
  "language_info": {
   "codemirror_mode": {
    "name": "ipython",
    "version": 3
   },
   "file_extension": ".py",
   "mimetype": "text/x-python",
   "name": "python",
   "nbconvert_exporter": "python",
   "pygments_lexer": "ipython3",
   "version": "3.11.4"
  }
 },
 "nbformat": 4,
 "nbformat_minor": 2
}
