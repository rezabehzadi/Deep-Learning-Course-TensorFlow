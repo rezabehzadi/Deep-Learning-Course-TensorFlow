{
 "cells": [
  {
   "cell_type": "code",
   "execution_count": null,
   "metadata": {},
   "outputs": [],
   "source": [
    "# 01. Building a Vocabulary\n",
    "# 02. Generating Sequences and Padding\n",
    "# 03. Tokenizing the Sarcasm Dataset\n",
    "# 04. Explore the BBC News archive\n",
    "# 05.\n",
    "# 06. \n",
    "# 07. \n",
    "# 08. \n",
    "# 09. \n",
    "# 10. \n",
    "# 11. \n",
    "# 12. "
   ]
  }
 ],
 "metadata": {
  "kernelspec": {
   "display_name": "Python 3",
   "language": "python",
   "name": "python3"
  },
  "language_info": {
   "name": "python",
   "version": "3.11.4"
  }
 },
 "nbformat": 4,
 "nbformat_minor": 2
}
