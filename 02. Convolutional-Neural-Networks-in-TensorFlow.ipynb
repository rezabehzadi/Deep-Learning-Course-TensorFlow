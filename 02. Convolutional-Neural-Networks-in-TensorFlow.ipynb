{
 "cells": [
  {
   "cell_type": "code",
   "execution_count": null,
   "metadata": {},
   "outputs": [],
   "source": [
    "# 01. Using more sophisticated images with Convolutional Neural Networks\n",
    "# 02. Using CNN's with the Cats vs Dogs Dataset\n",
    "# 03. \n",
    "# 04. \n",
    "# 05.\n",
    "# 06. \n",
    "# 07. \n",
    "# 08. \n",
    "# 09. \n",
    "# 10. \n",
    "# 11. \n",
    "# 12. "
   ]
  }
 ],
 "metadata": {
  "kernelspec": {
   "display_name": "Python 3",
   "language": "python",
   "name": "python3"
  },
  "language_info": {
   "name": "python",
   "version": "3.11.4"
  }
 },
 "nbformat": 4,
 "nbformat_minor": 2
}
